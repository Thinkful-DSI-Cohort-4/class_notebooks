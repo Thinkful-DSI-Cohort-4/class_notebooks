{
 "cells": [
  {
   "cell_type": "code",
   "execution_count": 1,
   "metadata": {},
   "outputs": [
    {
     "data": {
      "application/javascript": [
       "\n",
       "            setTimeout(function() {\n",
       "                var nbb_cell_id = 1;\n",
       "                var nbb_unformatted_code = \"%reload_ext nb_black\";\n",
       "                var nbb_formatted_code = \"%reload_ext nb_black\";\n",
       "                var nbb_cells = Jupyter.notebook.get_cells();\n",
       "                for (var i = 0; i < nbb_cells.length; ++i) {\n",
       "                    if (nbb_cells[i].input_prompt_number == nbb_cell_id) {\n",
       "                        if (nbb_cells[i].get_text() == nbb_unformatted_code) {\n",
       "                             nbb_cells[i].set_text(nbb_formatted_code);\n",
       "                        }\n",
       "                        break;\n",
       "                    }\n",
       "                }\n",
       "            }, 500);\n",
       "            "
      ],
      "text/plain": [
       "<IPython.core.display.Javascript object>"
      ]
     },
     "metadata": {},
     "output_type": "display_data"
    }
   ],
   "source": [
    "%reload_ext nb_black"
   ]
  },
  {
   "cell_type": "markdown",
   "metadata": {},
   "source": [
    "# Manifold Methods for Dimension Reduction\n",
    "\n",
    "Covered in this notebook:\n",
    "\n",
    "* [Isomap](#Isomap)\n",
    "* [Locally Linear Embedding (LLE)](#Locally-Linear-Embedding)\n",
    "* [t-distributed Stochastic Neighbor Embedding (t-SNE)](#t-SNE)\n",
    "* [Uniform Manifold Approximation and Projection (UMAP)](#UMAP)"
   ]
  },
  {
   "cell_type": "markdown",
   "metadata": {},
   "source": [
    "## Setup of dataset, motivation, & PCA"
   ]
  },
  {
   "cell_type": "markdown",
   "metadata": {},
   "source": [
    "### Setup"
   ]
  },
  {
   "cell_type": "code",
   "execution_count": 2,
   "metadata": {},
   "outputs": [
    {
     "data": {
      "application/javascript": [
       "\n",
       "            setTimeout(function() {\n",
       "                var nbb_cell_id = 2;\n",
       "                var nbb_unformatted_code = \"import numpy as np\\nimport pandas as pd\\n\\nfrom sklearn.preprocessing import StandardScaler\\nfrom sklearn.decomposition import PCA\\nfrom sklearn.manifold import Isomap, LocallyLinearEmbedding, TSNE\\n\\n# !pip install umap-learn\\nfrom umap import UMAP\\n\\nfrom scipy.spatial.distance import pdist, squareform\\n\\nimport seaborn as sns\\nimport matplotlib.pyplot as plt\\n\\n%matplotlib inline\";\n",
       "                var nbb_formatted_code = \"import numpy as np\\nimport pandas as pd\\n\\nfrom sklearn.preprocessing import StandardScaler\\nfrom sklearn.decomposition import PCA\\nfrom sklearn.manifold import Isomap, LocallyLinearEmbedding, TSNE\\n\\n# !pip install umap-learn\\nfrom umap import UMAP\\n\\nfrom scipy.spatial.distance import pdist, squareform\\n\\nimport seaborn as sns\\nimport matplotlib.pyplot as plt\\n\\n%matplotlib inline\";\n",
       "                var nbb_cells = Jupyter.notebook.get_cells();\n",
       "                for (var i = 0; i < nbb_cells.length; ++i) {\n",
       "                    if (nbb_cells[i].input_prompt_number == nbb_cell_id) {\n",
       "                        if (nbb_cells[i].get_text() == nbb_unformatted_code) {\n",
       "                             nbb_cells[i].set_text(nbb_formatted_code);\n",
       "                        }\n",
       "                        break;\n",
       "                    }\n",
       "                }\n",
       "            }, 500);\n",
       "            "
      ],
      "text/plain": [
       "<IPython.core.display.Javascript object>"
      ]
     },
     "metadata": {},
     "output_type": "display_data"
    }
   ],
   "source": [
    "import numpy as np\n",
    "import pandas as pd\n",
    "\n",
    "from sklearn.preprocessing import StandardScaler\n",
    "from sklearn.decomposition import PCA\n",
    "from sklearn.manifold import Isomap, LocallyLinearEmbedding, TSNE\n",
    "\n",
    "# !pip install umap-learn\n",
    "from umap import UMAP\n",
    "\n",
    "from scipy.spatial.distance import pdist, squareform\n",
    "\n",
    "import seaborn as sns\n",
    "import matplotlib.pyplot as plt\n",
    "\n",
    "%matplotlib inline"
   ]
  },
  {
   "cell_type": "code",
   "execution_count": 3,
   "metadata": {},
   "outputs": [
    {
     "data": {
      "image/png": "[encoded data removed]",
      "text/plain": [
       "<Figure size 432x288 with 1 Axes>"
      ]
     },
     "metadata": {
      "needs_background": "light"
     },
     "output_type": "display_data"
    },
    {
     "data": {
      "application/javascript": [
       "\n",
       "            setTimeout(function() {\n",
       "                var nbb_cell_id = 3;\n",
       "                var nbb_unformatted_code = \"np.random.seed(42)\\n\\nn = 30\\nsd = 0.01\\nmean1 = 1\\nmean3 = 1.1\\nmean5 = 1.2\\n\\nx1 = np.random.normal(mean1, sd, n)\\ny1 = np.arange(n) * 1.5\\n\\nx2 = np.arange(mean1, mean3, (mean3 - mean1) / n)\\ny2 = np.random.normal(n * 2, 3, n)\\n\\nx3 = np.random.normal(mean3, sd, n)\\ny3 = np.arange(n) * 2\\n\\nx4 = np.arange(mean1, mean3, (mean3 - mean1) / n)\\ny4 = np.random.normal(-8, 3, n)\\n\\nx = np.hstack((x1, x2, x3, x4))\\ny = np.hstack((y1, y2, y3, y4))\\ngroup = [\\\"a\\\"] * n + [\\\"b\\\"] * n + [\\\"c\\\"] * n + [\\\"d\\\"] * n\\n\\ndf = pd.DataFrame({\\\"x\\\": x, \\\"y\\\": y, \\\"group\\\": group})\\nsns.scatterplot(\\\"x\\\", \\\"y\\\", hue=\\\"group\\\", data=df)\\nplt.legend().remove()\\nplt.show()\";\n",
       "                var nbb_formatted_code = \"np.random.seed(42)\\n\\nn = 30\\nsd = 0.01\\nmean1 = 1\\nmean3 = 1.1\\nmean5 = 1.2\\n\\nx1 = np.random.normal(mean1, sd, n)\\ny1 = np.arange(n) * 1.5\\n\\nx2 = np.arange(mean1, mean3, (mean3 - mean1) / n)\\ny2 = np.random.normal(n * 2, 3, n)\\n\\nx3 = np.random.normal(mean3, sd, n)\\ny3 = np.arange(n) * 2\\n\\nx4 = np.arange(mean1, mean3, (mean3 - mean1) / n)\\ny4 = np.random.normal(-8, 3, n)\\n\\nx = np.hstack((x1, x2, x3, x4))\\ny = np.hstack((y1, y2, y3, y4))\\ngroup = [\\\"a\\\"] * n + [\\\"b\\\"] * n + [\\\"c\\\"] * n + [\\\"d\\\"] * n\\n\\ndf = pd.DataFrame({\\\"x\\\": x, \\\"y\\\": y, \\\"group\\\": group})\\nsns.scatterplot(\\\"x\\\", \\\"y\\\", hue=\\\"group\\\", data=df)\\nplt.legend().remove()\\nplt.show()\";\n",
       "                var nbb_cells = Jupyter.notebook.get_cells();\n",
       "                for (var i = 0; i < nbb_cells.length; ++i) {\n",
       "                    if (nbb_cells[i].input_prompt_number == nbb_cell_id) {\n",
       "                        if (nbb_cells[i].get_text() == nbb_unformatted_code) {\n",
       "                             nbb_cells[i].set_text(nbb_formatted_code);\n",
       "                        }\n",
       "                        break;\n",
       "                    }\n",
       "                }\n",
       "            }, 500);\n",
       "            "
      ],
      "text/plain": [
       "<IPython.core.display.Javascript object>"
      ]
     },
     "metadata": {},
     "output_type": "display_data"
    }
   ],
   "source": [
    "np.random.seed(42)\n",
    "\n",
    "n = 30\n",
    "sd = 0.01\n",
    "mean1 = 1\n",
    "mean3 = 1.1\n",
    "mean5 = 1.2\n",
    "\n",
    "x1 = np.random.normal(mean1, sd, n)\n",
    "y1 = np.arange(n) * 1.5\n",
    "\n",
    "x2 = np.arange(mean1, mean3, (mean3 - mean1) / n)\n",
    "y2 = np.random.normal(n * 2, 3, n)\n",
    "\n",
    "x3 = np.random.normal(mean3, sd, n)\n",
    "y3 = np.arange(n) * 2\n",
    "\n",
    "x4 = np.arange(mean1, mean3, (mean3 - mean1) / n)\n",
    "y4 = np.random.normal(-8, 3, n)\n",
    "\n",
    "x = np.hstack((x1, x2, x3, x4))\n",
    "y = np.hstack((y1, y2, y3, y4))\n",
    "group = [\"a\"] * n + [\"b\"] * n + [\"c\"] * n + [\"d\"] * n\n",
    "\n",
    "df = pd.DataFrame({\"x\": x, \"y\": y, \"group\": group})\n",
    "sns.scatterplot(\"x\", \"y\", hue=\"group\", data=df)\n",
    "plt.legend().remove()\n",
    "plt.show()"
   ]
  },
  {
   "cell_type": "markdown",
   "metadata": {},
   "source": [
    "### Motivation\n",
    "\n",
    "Our data here takes an interesting shape.  It's sort of rolled up (slides have classic 3d swiss roll example).  The question that motivates the method we'll see is: \n",
    "\n",
    "How should we treat the below highlighted points?\n",
    "\n",
    "The distance between them isn't huge in terms of our dataset's x and y coordinates, but if our data's true structure is 'rolled' up, then the blue and orange points would be on opposite sides of this roll.  This means that these points should be as far away as possible."
   ]
  },
  {
   "cell_type": "code",
   "execution_count": 4,
   "metadata": {},
   "outputs": [
    {
     "data": {
      "image/png": "[encoded data removed]",
      "text/plain": [
       "<Figure size 432x288 with 1 Axes>"
      ]
     },
     "metadata": {
      "needs_background": "light"
     },
     "output_type": "display_data"
    },
    {
     "data": {
      "application/javascript": [
       "\n",
       "            setTimeout(function() {\n",
       "                var nbb_cell_id = 4;\n",
       "                var nbb_unformatted_code = \"df = pd.DataFrame({\\\"x\\\": x, \\\"y\\\": y, \\\"group\\\": group})\\nsns.scatterplot(\\\"x\\\", \\\"y\\\", hue=\\\"group\\\", data=df)\\nplt.scatter([1.0, 0.997083], [58.194880, 43.5], marker=\\\"x\\\", c=\\\"black\\\", s=100)\\nplt.plot([1.0, 0.997083], [58.194880, 43.5], c=\\\"black\\\", ls=\\\"--\\\")\\nplt.legend().remove()\\nplt.show()\";\n",
       "                var nbb_formatted_code = \"df = pd.DataFrame({\\\"x\\\": x, \\\"y\\\": y, \\\"group\\\": group})\\nsns.scatterplot(\\\"x\\\", \\\"y\\\", hue=\\\"group\\\", data=df)\\nplt.scatter([1.0, 0.997083], [58.194880, 43.5], marker=\\\"x\\\", c=\\\"black\\\", s=100)\\nplt.plot([1.0, 0.997083], [58.194880, 43.5], c=\\\"black\\\", ls=\\\"--\\\")\\nplt.legend().remove()\\nplt.show()\";\n",
       "                var nbb_cells = Jupyter.notebook.get_cells();\n",
       "                for (var i = 0; i < nbb_cells.length; ++i) {\n",
       "                    if (nbb_cells[i].input_prompt_number == nbb_cell_id) {\n",
       "                        if (nbb_cells[i].get_text() == nbb_unformatted_code) {\n",
       "                             nbb_cells[i].set_text(nbb_formatted_code);\n",
       "                        }\n",
       "                        break;\n",
       "                    }\n",
       "                }\n",
       "            }, 500);\n",
       "            "
      ],
      "text/plain": [
       "<IPython.core.display.Javascript object>"
      ]
     },
     "metadata": {},
     "output_type": "display_data"
    }
   ],
   "source": [
    "df = pd.DataFrame({\"x\": x, \"y\": y, \"group\": group})\n",
    "sns.scatterplot(\"x\", \"y\", hue=\"group\", data=df)\n",
    "plt.scatter([1.0, 0.997083], [58.194880, 43.5], marker=\"x\", c=\"black\", s=100)\n",
    "plt.plot([1.0, 0.997083], [58.194880, 43.5], c=\"black\", ls=\"--\")\n",
    "plt.legend().remove()\n",
    "plt.show()"
   ]
  },
  {
   "cell_type": "markdown",
   "metadata": {},
   "source": [
    "### PCA"
   ]
  },
  {
   "cell_type": "markdown",
   "metadata": {},
   "source": [
    "Isolate the x and y columns and scale the data"
   ]
  },
  {
   "cell_type": "code",
   "execution_count": 5,
   "metadata": {},
   "outputs": [
    {
     "data": {
      "application/javascript": [
       "\n",
       "            setTimeout(function() {\n",
       "                var nbb_cell_id = 5;\n",
       "                var nbb_unformatted_code = \"X = df[[\\\"x\\\", \\\"y\\\"]]\\n\\nscaler = StandardScaler()\\nscaled = scaler.fit_transform(X)\";\n",
       "                var nbb_formatted_code = \"X = df[[\\\"x\\\", \\\"y\\\"]]\\n\\nscaler = StandardScaler()\\nscaled = scaler.fit_transform(X)\";\n",
       "                var nbb_cells = Jupyter.notebook.get_cells();\n",
       "                for (var i = 0; i < nbb_cells.length; ++i) {\n",
       "                    if (nbb_cells[i].input_prompt_number == nbb_cell_id) {\n",
       "                        if (nbb_cells[i].get_text() == nbb_unformatted_code) {\n",
       "                             nbb_cells[i].set_text(nbb_formatted_code);\n",
       "                        }\n",
       "                        break;\n",
       "                    }\n",
       "                }\n",
       "            }, 500);\n",
       "            "
      ],
      "text/plain": [
       "<IPython.core.display.Javascript object>"
      ]
     },
     "metadata": {},
     "output_type": "display_data"
    }
   ],
   "source": [
    "X = df[[\"x\", \"y\"]]\n",
    "\n",
    "scaler = StandardScaler()\n",
    "scaled = scaler.fit_transform(X)"
   ]
  },
  {
   "cell_type": "markdown",
   "metadata": {},
   "source": [
    "Apply PCA to the data with one component, what do you expect the output to look like?"
   ]
  },
  {
   "cell_type": "code",
   "execution_count": 6,
   "metadata": {},
   "outputs": [
    {
     "data": {
      "application/javascript": [
       "\n",
       "            setTimeout(function() {\n",
       "                var nbb_cell_id = 6;\n",
       "                var nbb_unformatted_code = \"pca = PCA(1)\\ndf[\\\"pc1\\\"] = pca.fit_transform(scaled)\";\n",
       "                var nbb_formatted_code = \"pca = PCA(1)\\ndf[\\\"pc1\\\"] = pca.fit_transform(scaled)\";\n",
       "                var nbb_cells = Jupyter.notebook.get_cells();\n",
       "                for (var i = 0; i < nbb_cells.length; ++i) {\n",
       "                    if (nbb_cells[i].input_prompt_number == nbb_cell_id) {\n",
       "                        if (nbb_cells[i].get_text() == nbb_unformatted_code) {\n",
       "                             nbb_cells[i].set_text(nbb_formatted_code);\n",
       "                        }\n",
       "                        break;\n",
       "                    }\n",
       "                }\n",
       "            }, 500);\n",
       "            "
      ],
      "text/plain": [
       "<IPython.core.display.Javascript object>"
      ]
     },
     "metadata": {},
     "output_type": "display_data"
    }
   ],
   "source": [
    "pca = PCA(1)\n",
    "df[\"pc1\"] = pca.fit_transform(scaled)"
   ]
  },
  {
   "cell_type": "code",
   "execution_count": 7,
   "metadata": {},
   "outputs": [
    {
     "data": {
      "text/plain": [
       "array([0.54060113])"
      ]
     },
     "execution_count": 7,
     "metadata": {},
     "output_type": "execute_result"
    },
    {
     "data": {
      "application/javascript": [
       "\n",
       "            setTimeout(function() {\n",
       "                var nbb_cell_id = 7;\n",
       "                var nbb_unformatted_code = \"pca.explained_variance_ratio_\";\n",
       "                var nbb_formatted_code = \"pca.explained_variance_ratio_\";\n",
       "                var nbb_cells = Jupyter.notebook.get_cells();\n",
       "                for (var i = 0; i < nbb_cells.length; ++i) {\n",
       "                    if (nbb_cells[i].input_prompt_number == nbb_cell_id) {\n",
       "                        if (nbb_cells[i].get_text() == nbb_unformatted_code) {\n",
       "                             nbb_cells[i].set_text(nbb_formatted_code);\n",
       "                        }\n",
       "                        break;\n",
       "                    }\n",
       "                }\n",
       "            }, 500);\n",
       "            "
      ],
      "text/plain": [
       "<IPython.core.display.Javascript object>"
      ]
     },
     "metadata": {},
     "output_type": "display_data"
    }
   ],
   "source": [
    "pca.explained_variance_ratio_"
   ]
  },
  {
   "cell_type": "markdown",
   "metadata": {},
   "source": [
    "Plot the first principal component colored by group (use the zero column for the y axis)"
   ]
  },
  {
   "cell_type": "code",
   "execution_count": 8,
   "metadata": {},
   "outputs": [
    {
     "data": {
      "application/javascript": [
       "\n",
       "            setTimeout(function() {\n",
       "                var nbb_cell_id = 8;\n",
       "                var nbb_unformatted_code = \"df[\\\"zero\\\"] = 0\";\n",
       "                var nbb_formatted_code = \"df[\\\"zero\\\"] = 0\";\n",
       "                var nbb_cells = Jupyter.notebook.get_cells();\n",
       "                for (var i = 0; i < nbb_cells.length; ++i) {\n",
       "                    if (nbb_cells[i].input_prompt_number == nbb_cell_id) {\n",
       "                        if (nbb_cells[i].get_text() == nbb_unformatted_code) {\n",
       "                             nbb_cells[i].set_text(nbb_formatted_code);\n",
       "                        }\n",
       "                        break;\n",
       "                    }\n",
       "                }\n",
       "            }, 500);\n",
       "            "
      ],
      "text/plain": [
       "<IPython.core.display.Javascript object>"
      ]
     },
     "metadata": {},
     "output_type": "display_data"
    }
   ],
   "source": [
    "df[\"zero\"] = 0"
   ]
  },
  {
   "cell_type": "code",
   "execution_count": 9,
   "metadata": {},
   "outputs": [
    {
     "data": {
      "image/png": "[encoded data removed]",
      "text/plain": [
       "<Figure size 432x288 with 1 Axes>"
      ]
     },
     "metadata": {
      "needs_background": "light"
     },
     "output_type": "display_data"
    },
    {
     "data": {
      "application/javascript": [
       "\n",
       "            setTimeout(function() {\n",
       "                var nbb_cell_id = 9;\n",
       "                var nbb_unformatted_code = \"sns.scatterplot(\\\"pc1\\\", \\\"zero\\\", hue=\\\"group\\\", data=df)\\nplt.yticks([])\\nplt.ylabel(\\\"\\\")\\nplt.legend().remove()\\nplt.show()\";\n",
       "                var nbb_formatted_code = \"sns.scatterplot(\\\"pc1\\\", \\\"zero\\\", hue=\\\"group\\\", data=df)\\nplt.yticks([])\\nplt.ylabel(\\\"\\\")\\nplt.legend().remove()\\nplt.show()\";\n",
       "                var nbb_cells = Jupyter.notebook.get_cells();\n",
       "                for (var i = 0; i < nbb_cells.length; ++i) {\n",
       "                    if (nbb_cells[i].input_prompt_number == nbb_cell_id) {\n",
       "                        if (nbb_cells[i].get_text() == nbb_unformatted_code) {\n",
       "                             nbb_cells[i].set_text(nbb_formatted_code);\n",
       "                        }\n",
       "                        break;\n",
       "                    }\n",
       "                }\n",
       "            }, 500);\n",
       "            "
      ],
      "text/plain": [
       "<IPython.core.display.Javascript object>"
      ]
     },
     "metadata": {},
     "output_type": "display_data"
    }
   ],
   "source": [
    "sns.scatterplot(\"pc1\", \"zero\", hue=\"group\", data=df)\n",
    "plt.yticks([])\n",
    "plt.ylabel(\"\")\n",
    "plt.legend().remove()\n",
    "plt.show()"
   ]
  },
  {
   "cell_type": "markdown",
   "metadata": {},
   "source": [
    "PCA has done its thing and has captured as much variation in the data as possible in a single component (>50%).  But is this visualization the best way to represent the data? If our goal was to represent the data as a rolled up line of points, then this single principal component is not doing very well."
   ]
  },
  {
   "cell_type": "markdown",
   "metadata": {},
   "source": [
    "## Isomap\n",
    "\n",
    "Modified from [`sklearn` documentation](https://scikit-learn.org/stable/modules/manifold.html):\n",
    "\n",
    "> One of the earliest approaches to manifold learning is the Isomap algorithm, short for Isometric Mapping. Isomap can be viewed as an extension of Multi-dimensional Scaling (MDS) or Kernel PCA. Isomap seeks a lower-dimensional embedding which maintains geodesic distances between all points. Isomap can be performed with the object `Isomap`.\n",
    ">\n",
    ">\n",
    "> #### The `Isomap` algorithm comprises three stages:\n",
    ">\n",
    "> 1. **Nearest neighbor search.** `Isomap` uses `sklearn.neighbors`. BallTree for efficient neighbor search.\n",
    "> \n",
    "> * **Shortest-path graph search.** The most efficient known algorithms for this are Dijkstra’s Algorithm or the Floyd-Warshall algorithm. The algorithm can be selected by the user with the `path_method` keyword of `Isomap`. If unspecified, the code attempts to choose the best algorithm for the input data.\n",
    ">\n",
    "> * **Partial eigenvalue decomposition.** The embedding is encoded in the eigenvectors corresponding to the  largest eigenvalues of the  isomap kernel. The eigensolver can be specified by the user with the `eigen_solver` keyword of Isomap. If unspecified, the code attempts to choose the best algorithm for the input data."
   ]
  },
  {
   "cell_type": "markdown",
   "metadata": {},
   "source": [
    "We can visualize the nearest neighbors using only functions we've seen before (`pdist` & `squareform`) and `pandas` data manipulation.  If you're wanting to do a nearest neighbors search in practice, look into `sklearn.neighbors.NearestNeighbors` or other more optimized searches (the search below isn't the most efficient but works well enough here because we have small data)."
   ]
  },
  {
   "cell_type": "code",
   "execution_count": 10,
   "metadata": {},
   "outputs": [
    {
     "data": {
      "application/javascript": [
       "\n",
       "            setTimeout(function() {\n",
       "                var nbb_cell_id = 10;\n",
       "                var nbb_unformatted_code = \"def find_neighbors(dist_df, n_neighbors=5):\\n    # Isolate column i\\n    col = dist_df.iloc[:, i]\\n    # Set self distance to NA\\n    col[i] = np.nan\\n\\n    # Sort and take the index of the top n closest\\n    sorted_neigh = col.sort_values()\\n    top_neigh = sorted_neigh.head(n_neighbors)\\n    neigh_idxs = list(top_neigh.index)\\n\\n    return neigh_idxs\";\n",
       "                var nbb_formatted_code = \"def find_neighbors(dist_df, n_neighbors=5):\\n    # Isolate column i\\n    col = dist_df.iloc[:, i]\\n    # Set self distance to NA\\n    col[i] = np.nan\\n\\n    # Sort and take the index of the top n closest\\n    sorted_neigh = col.sort_values()\\n    top_neigh = sorted_neigh.head(n_neighbors)\\n    neigh_idxs = list(top_neigh.index)\\n\\n    return neigh_idxs\";\n",
       "                var nbb_cells = Jupyter.notebook.get_cells();\n",
       "                for (var i = 0; i < nbb_cells.length; ++i) {\n",
       "                    if (nbb_cells[i].input_prompt_number == nbb_cell_id) {\n",
       "                        if (nbb_cells[i].get_text() == nbb_unformatted_code) {\n",
       "                             nbb_cells[i].set_text(nbb_formatted_code);\n",
       "                        }\n",
       "                        break;\n",
       "                    }\n",
       "                }\n",
       "            }, 500);\n",
       "            "
      ],
      "text/plain": [
       "<IPython.core.display.Javascript object>"
      ]
     },
     "metadata": {},
     "output_type": "display_data"
    }
   ],
   "source": [
    "def find_neighbors(dist_df, n_neighbors=5):\n",
    "    # Isolate column i\n",
    "    col = dist_df.iloc[:, i]\n",
    "    # Set self distance to NA\n",
    "    col[i] = np.nan\n",
    "\n",
    "    # Sort and take the index of the top n closest\n",
    "    sorted_neigh = col.sort_values()\n",
    "    top_neigh = sorted_neigh.head(n_neighbors)\n",
    "    neigh_idxs = list(top_neigh.index)\n",
    "\n",
    "    return neigh_idxs"
   ]
  },
  {
   "cell_type": "code",
   "execution_count": 11,
   "metadata": {},
   "outputs": [
    {
     "data": {
      "application/javascript": [
       "\n",
       "            setTimeout(function() {\n",
       "                var nbb_cell_id = 11;\n",
       "                var nbb_unformatted_code = \"def plot_neighbors(df, idx, neigh_idxs, alpha=0.1):\\n    # Pull out current rows coords\\n    ctr_pt = df.iloc[idx, [0, 1]].values\\n    for neigh_idx in neigh_idxs:\\n        # Pull out neighbor i's coords\\n        nn_pt = df.iloc[neigh_idx, [0, 1]].values\\n\\n        # Plot line from center to each neighbor\\n        xs = [ctr_pt[0]] + [nn_pt[0]]\\n        ys = [ctr_pt[1]] + [nn_pt[1]]\\n\\n        plt.plot(xs, ys, c=\\\"black\\\", alpha=alpha, zorder=-1)\";\n",
       "                var nbb_formatted_code = \"def plot_neighbors(df, idx, neigh_idxs, alpha=0.1):\\n    # Pull out current rows coords\\n    ctr_pt = df.iloc[idx, [0, 1]].values\\n    for neigh_idx in neigh_idxs:\\n        # Pull out neighbor i's coords\\n        nn_pt = df.iloc[neigh_idx, [0, 1]].values\\n\\n        # Plot line from center to each neighbor\\n        xs = [ctr_pt[0]] + [nn_pt[0]]\\n        ys = [ctr_pt[1]] + [nn_pt[1]]\\n\\n        plt.plot(xs, ys, c=\\\"black\\\", alpha=alpha, zorder=-1)\";\n",
       "                var nbb_cells = Jupyter.notebook.get_cells();\n",
       "                for (var i = 0; i < nbb_cells.length; ++i) {\n",
       "                    if (nbb_cells[i].input_prompt_number == nbb_cell_id) {\n",
       "                        if (nbb_cells[i].get_text() == nbb_unformatted_code) {\n",
       "                             nbb_cells[i].set_text(nbb_formatted_code);\n",
       "                        }\n",
       "                        break;\n",
       "                    }\n",
       "                }\n",
       "            }, 500);\n",
       "            "
      ],
      "text/plain": [
       "<IPython.core.display.Javascript object>"
      ]
     },
     "metadata": {},
     "output_type": "display_data"
    }
   ],
   "source": [
    "def plot_neighbors(df, idx, neigh_idxs, alpha=0.1):\n",
    "    # Pull out current rows coords\n",
    "    ctr_pt = df.iloc[idx, [0, 1]].values\n",
    "    for neigh_idx in neigh_idxs:\n",
    "        # Pull out neighbor i's coords\n",
    "        nn_pt = df.iloc[neigh_idx, [0, 1]].values\n",
    "\n",
    "        # Plot line from center to each neighbor\n",
    "        xs = [ctr_pt[0]] + [nn_pt[0]]\n",
    "        ys = [ctr_pt[1]] + [nn_pt[1]]\n",
    "\n",
    "        plt.plot(xs, ys, c=\"black\", alpha=alpha, zorder=-1)"
   ]
  },
  {
   "cell_type": "code",
   "execution_count": 12,
   "metadata": {},
   "outputs": [
    {
     "data": {
      "image/png": "[encoded data removed]",
      "text/plain": [
       "<Figure size 432x288 with 1 Axes>"
      ]
     },
     "metadata": {
      "needs_background": "light"
     },
     "output_type": "display_data"
    },
    {
     "data": {
      "application/javascript": [
       "\n",
       "            setTimeout(function() {\n",
       "                var nbb_cell_id = 12;\n",
       "                var nbb_unformatted_code = \"# Number of neighbors to find/plot\\nn_neighbors = 5\\n\\ndist_mat = squareform(pdist(scaled))\\ndist_df = pd.DataFrame(dist_mat)\\n\\nsns.scatterplot(\\\"x\\\", \\\"y\\\", hue=\\\"group\\\", data=df)\\n\\nfor i, _ in df.iterrows():\\n    neigh_idxs = find_neighbors(dist_df, n_neighbors)\\n    plot_neighbors(df[[\\\"x\\\", \\\"y\\\"]], i, neigh_idxs)\\n\\nplt.title(f\\\"Connections for {n_neighbors} Neighbors\\\")\\nplt.axis(\\\"off\\\")\\nplt.legend().remove()\\nplt.show()\";\n",
       "                var nbb_formatted_code = \"# Number of neighbors to find/plot\\nn_neighbors = 5\\n\\ndist_mat = squareform(pdist(scaled))\\ndist_df = pd.DataFrame(dist_mat)\\n\\nsns.scatterplot(\\\"x\\\", \\\"y\\\", hue=\\\"group\\\", data=df)\\n\\nfor i, _ in df.iterrows():\\n    neigh_idxs = find_neighbors(dist_df, n_neighbors)\\n    plot_neighbors(df[[\\\"x\\\", \\\"y\\\"]], i, neigh_idxs)\\n\\nplt.title(f\\\"Connections for {n_neighbors} Neighbors\\\")\\nplt.axis(\\\"off\\\")\\nplt.legend().remove()\\nplt.show()\";\n",
       "                var nbb_cells = Jupyter.notebook.get_cells();\n",
       "                for (var i = 0; i < nbb_cells.length; ++i) {\n",
       "                    if (nbb_cells[i].input_prompt_number == nbb_cell_id) {\n",
       "                        if (nbb_cells[i].get_text() == nbb_unformatted_code) {\n",
       "                             nbb_cells[i].set_text(nbb_formatted_code);\n",
       "                        }\n",
       "                        break;\n",
       "                    }\n",
       "                }\n",
       "            }, 500);\n",
       "            "
      ],
      "text/plain": [
       "<IPython.core.display.Javascript object>"
      ]
     },
     "metadata": {},
     "output_type": "display_data"
    }
   ],
   "source": [
    "# Number of neighbors to find/plot\n",
    "n_neighbors = 5\n",
    "\n",
    "dist_mat = squareform(pdist(scaled))\n",
    "dist_df = pd.DataFrame(dist_mat)\n",
    "\n",
    "sns.scatterplot(\"x\", \"y\", hue=\"group\", data=df)\n",
    "\n",
    "for i, _ in df.iterrows():\n",
    "    neigh_idxs = find_neighbors(dist_df, n_neighbors)\n",
    "    plot_neighbors(df[[\"x\", \"y\"]], i, neigh_idxs)\n",
    "\n",
    "plt.title(f\"Connections for {n_neighbors} Neighbors\")\n",
    "plt.axis(\"off\")\n",
    "plt.legend().remove()\n",
    "plt.show()"
   ]
  },
  {
   "cell_type": "markdown",
   "metadata": {},
   "source": [
    "The next step of the algorithm is to create a distance matrix again, but this time, use *geodisic* distance.  Geodisic distance is a measure of how far apart points are in a graph of 'nodes' connected by 'edges' (like our scatter plot above).  If you had to follow the graph's edges, how many nodes would you pass through to get from point A to point B?  That number of nodes represents the geodisic distance that will be in our distance matrix.\n",
    "\n",
    "After some processing of these distances, we'll perform eigenvalue decomposition on our matrix.  Think PCA, we'll get out a number of components that attempt to capture the information in our distance matrix.  If we asked for <=2 components then we can easily plot and visualize our data that might have had 2 many dimensions to easily visualize before.\n",
    "\n",
    "This process is a case of Multi Dimensional Scaling (MDS).  MDS does the same PCA-like process to a distance matrix, traditionally, this was a Euclidean distance matrix, but the process can be applied to any distance/dissimilarity matrix with varying results."
   ]
  },
  {
   "cell_type": "markdown",
   "metadata": {},
   "source": [
    "Apply an Isomapping to the data:\n",
    "\n",
    "* Use 1 component\n",
    "* Choose a number of neighbors\n",
    "    * Plug this number into the viz above to view what the map would look like for this number"
   ]
  },
  {
   "cell_type": "code",
   "execution_count": 13,
   "metadata": {},
   "outputs": [
    {
     "data": {
      "application/javascript": [
       "\n",
       "            setTimeout(function() {\n",
       "                var nbb_cell_id = 13;\n",
       "                var nbb_unformatted_code = \"iso = Isomap(n_neighbors=5, n_components=1)\\ndf[\\\"iso\\\"] = iso.fit_transform(scaled)\";\n",
       "                var nbb_formatted_code = \"iso = Isomap(n_neighbors=5, n_components=1)\\ndf[\\\"iso\\\"] = iso.fit_transform(scaled)\";\n",
       "                var nbb_cells = Jupyter.notebook.get_cells();\n",
       "                for (var i = 0; i < nbb_cells.length; ++i) {\n",
       "                    if (nbb_cells[i].input_prompt_number == nbb_cell_id) {\n",
       "                        if (nbb_cells[i].get_text() == nbb_unformatted_code) {\n",
       "                             nbb_cells[i].set_text(nbb_formatted_code);\n",
       "                        }\n",
       "                        break;\n",
       "                    }\n",
       "                }\n",
       "            }, 500);\n",
       "            "
      ],
      "text/plain": [
       "<IPython.core.display.Javascript object>"
      ]
     },
     "metadata": {},
     "output_type": "display_data"
    }
   ],
   "source": [
    "iso = Isomap(n_neighbors=5, n_components=1)\n",
    "df[\"iso\"] = iso.fit_transform(scaled)"
   ]
  },
  {
   "cell_type": "markdown",
   "metadata": {},
   "source": [
    "Plot the results in the same way as PCA was plotted above\n",
    "\n",
    "Play with the number of neighbors and guess how it will effect the results."
   ]
  },
  {
   "cell_type": "code",
   "execution_count": 14,
   "metadata": {},
   "outputs": [
    {
     "data": {
      "image/png": "[encoded data removed]",
      "text/plain": [
       "<Figure size 432x288 with 1 Axes>"
      ]
     },
     "metadata": {
      "needs_background": "light"
     },
     "output_type": "display_data"
    },
    {
     "data": {
      "application/javascript": [
       "\n",
       "            setTimeout(function() {\n",
       "                var nbb_cell_id = 14;\n",
       "                var nbb_unformatted_code = \"sns.scatterplot(\\\"iso\\\", \\\"zero\\\", hue=\\\"group\\\", data=df)\\nplt.yticks([])\\nplt.ylabel(\\\"\\\")\\nplt.legend().remove()\\nplt.show()\";\n",
       "                var nbb_formatted_code = \"sns.scatterplot(\\\"iso\\\", \\\"zero\\\", hue=\\\"group\\\", data=df)\\nplt.yticks([])\\nplt.ylabel(\\\"\\\")\\nplt.legend().remove()\\nplt.show()\";\n",
       "                var nbb_cells = Jupyter.notebook.get_cells();\n",
       "                for (var i = 0; i < nbb_cells.length; ++i) {\n",
       "                    if (nbb_cells[i].input_prompt_number == nbb_cell_id) {\n",
       "                        if (nbb_cells[i].get_text() == nbb_unformatted_code) {\n",
       "                             nbb_cells[i].set_text(nbb_formatted_code);\n",
       "                        }\n",
       "                        break;\n",
       "                    }\n",
       "                }\n",
       "            }, 500);\n",
       "            "
      ],
      "text/plain": [
       "<IPython.core.display.Javascript object>"
      ]
     },
     "metadata": {},
     "output_type": "display_data"
    }
   ],
   "source": [
    "sns.scatterplot(\"iso\", \"zero\", hue=\"group\", data=df)\n",
    "plt.yticks([])\n",
    "plt.ylabel(\"\")\n",
    "plt.legend().remove()\n",
    "plt.show()"
   ]
  },
  {
   "cell_type": "markdown",
   "metadata": {},
   "source": [
    "Below, the 2 points we highlighted earlier are isolated.  We can see how PCA treated them, and how isomap treated them.\n",
    "\n",
    "Verify, are these 2 points the maximum distance apart in our isomap data?"
   ]
  },
  {
   "cell_type": "code",
   "execution_count": 15,
   "metadata": {},
   "outputs": [
    {
     "data": {
      "text/html": [
       "<div>\n",
       "<style scoped>\n",
       "    .dataframe tbody tr th:only-of-type {\n",
       "        vertical-align: middle;\n",
       "    }\n",
       "\n",
       "    .dataframe tbody tr th {\n",
       "        vertical-align: top;\n",
       "    }\n",
       "\n",
       "    .dataframe thead th {\n",
       "        text-align: right;\n",
       "    }\n",
       "</style>\n",
       "<table border=\"1\" class=\"dataframe\">\n",
       "  <thead>\n",
       "    <tr style=\"text-align: right;\">\n",
       "      <th></th>\n",
       "      <th>x</th>\n",
       "      <th>y</th>\n",
       "      <th>group</th>\n",
       "      <th>pc1</th>\n",
       "      <th>zero</th>\n",
       "      <th>iso</th>\n",
       "    </tr>\n",
       "  </thead>\n",
       "  <tbody>\n",
       "    <tr>\n",
       "      <th>30</th>\n",
       "      <td>1.0</td>\n",
       "      <td>58.19488</td>\n",
       "      <td>b</td>\n",
       "      <td>0.050288</td>\n",
       "      <td>0</td>\n",
       "      <td>4.543276</td>\n",
       "    </tr>\n",
       "  </tbody>\n",
       "</table>\n",
       "</div>"
      ],
      "text/plain": [
       "      x         y group       pc1  zero       iso\n",
       "30  1.0  58.19488     b  0.050288     0  4.543276"
      ]
     },
     "execution_count": 15,
     "metadata": {},
     "output_type": "execute_result"
    },
    {
     "data": {
      "application/javascript": [
       "\n",
       "            setTimeout(function() {\n",
       "                var nbb_cell_id = 15;\n",
       "                var nbb_unformatted_code = \"df[(df[\\\"x\\\"] == 1.0) & (df[\\\"group\\\"] == \\\"b\\\")]\";\n",
       "                var nbb_formatted_code = \"df[(df[\\\"x\\\"] == 1.0) & (df[\\\"group\\\"] == \\\"b\\\")]\";\n",
       "                var nbb_cells = Jupyter.notebook.get_cells();\n",
       "                for (var i = 0; i < nbb_cells.length; ++i) {\n",
       "                    if (nbb_cells[i].input_prompt_number == nbb_cell_id) {\n",
       "                        if (nbb_cells[i].get_text() == nbb_unformatted_code) {\n",
       "                             nbb_cells[i].set_text(nbb_formatted_code);\n",
       "                        }\n",
       "                        break;\n",
       "                    }\n",
       "                }\n",
       "            }, 500);\n",
       "            "
      ],
      "text/plain": [
       "<IPython.core.display.Javascript object>"
      ]
     },
     "metadata": {},
     "output_type": "display_data"
    }
   ],
   "source": [
    "df[(df[\"x\"] == 1.0) & (df[\"group\"] == \"b\")]"
   ]
  },
  {
   "cell_type": "code",
   "execution_count": 16,
   "metadata": {},
   "outputs": [
    {
     "data": {
      "text/html": [
       "<div>\n",
       "<style scoped>\n",
       "    .dataframe tbody tr th:only-of-type {\n",
       "        vertical-align: middle;\n",
       "    }\n",
       "\n",
       "    .dataframe tbody tr th {\n",
       "        vertical-align: top;\n",
       "    }\n",
       "\n",
       "    .dataframe thead th {\n",
       "        text-align: right;\n",
       "    }\n",
       "</style>\n",
       "<table border=\"1\" class=\"dataframe\">\n",
       "  <thead>\n",
       "    <tr style=\"text-align: right;\">\n",
       "      <th></th>\n",
       "      <th>x</th>\n",
       "      <th>y</th>\n",
       "      <th>group</th>\n",
       "      <th>pc1</th>\n",
       "      <th>zero</th>\n",
       "      <th>iso</th>\n",
       "    </tr>\n",
       "  </thead>\n",
       "  <tbody>\n",
       "    <tr>\n",
       "      <th>29</th>\n",
       "      <td>0.997083</td>\n",
       "      <td>43.5</td>\n",
       "      <td>a</td>\n",
       "      <td>-0.391546</td>\n",
       "      <td>0</td>\n",
       "      <td>-4.171154</td>\n",
       "    </tr>\n",
       "  </tbody>\n",
       "</table>\n",
       "</div>"
      ],
      "text/plain": [
       "           x     y group       pc1  zero       iso\n",
       "29  0.997083  43.5     a -0.391546     0 -4.171154"
      ]
     },
     "execution_count": 16,
     "metadata": {},
     "output_type": "execute_result"
    },
    {
     "data": {
      "application/javascript": [
       "\n",
       "            setTimeout(function() {\n",
       "                var nbb_cell_id = 16;\n",
       "                var nbb_unformatted_code = \"df[(df[\\\"y\\\"] == 43.5) & (df[\\\"group\\\"] == \\\"a\\\")]\";\n",
       "                var nbb_formatted_code = \"df[(df[\\\"y\\\"] == 43.5) & (df[\\\"group\\\"] == \\\"a\\\")]\";\n",
       "                var nbb_cells = Jupyter.notebook.get_cells();\n",
       "                for (var i = 0; i < nbb_cells.length; ++i) {\n",
       "                    if (nbb_cells[i].input_prompt_number == nbb_cell_id) {\n",
       "                        if (nbb_cells[i].get_text() == nbb_unformatted_code) {\n",
       "                             nbb_cells[i].set_text(nbb_formatted_code);\n",
       "                        }\n",
       "                        break;\n",
       "                    }\n",
       "                }\n",
       "            }, 500);\n",
       "            "
      ],
      "text/plain": [
       "<IPython.core.display.Javascript object>"
      ]
     },
     "metadata": {},
     "output_type": "display_data"
    }
   ],
   "source": [
    "df[(df[\"y\"] == 43.5) & (df[\"group\"] == \"a\")]"
   ]
  },
  {
   "cell_type": "code",
   "execution_count": 17,
   "metadata": {},
   "outputs": [
    {
     "name": "stdout",
     "output_type": "stream",
     "text": [
      "4.543276323142634\n",
      "-4.17115440602947\n"
     ]
    },
    {
     "data": {
      "application/javascript": [
       "\n",
       "            setTimeout(function() {\n",
       "                var nbb_cell_id = 17;\n",
       "                var nbb_unformatted_code = \"# Yes, these 2 points are as far away as possible in the Isomapped data\\nprint(df[\\\"iso\\\"].max())\\nprint(df[\\\"iso\\\"].min())\";\n",
       "                var nbb_formatted_code = \"# Yes, these 2 points are as far away as possible in the Isomapped data\\nprint(df[\\\"iso\\\"].max())\\nprint(df[\\\"iso\\\"].min())\";\n",
       "                var nbb_cells = Jupyter.notebook.get_cells();\n",
       "                for (var i = 0; i < nbb_cells.length; ++i) {\n",
       "                    if (nbb_cells[i].input_prompt_number == nbb_cell_id) {\n",
       "                        if (nbb_cells[i].get_text() == nbb_unformatted_code) {\n",
       "                             nbb_cells[i].set_text(nbb_formatted_code);\n",
       "                        }\n",
       "                        break;\n",
       "                    }\n",
       "                }\n",
       "            }, 500);\n",
       "            "
      ],
      "text/plain": [
       "<IPython.core.display.Javascript object>"
      ]
     },
     "metadata": {},
     "output_type": "display_data"
    }
   ],
   "source": [
    "# Yes, these 2 points are as far away as possible in the Isomapped data\n",
    "print(df[\"iso\"].max())\n",
    "print(df[\"iso\"].min())"
   ]
  },
  {
   "cell_type": "markdown",
   "metadata": {},
   "source": [
    "## Locally Linear Embedding\n",
    "\n",
    "Modified from [`sklearn` documentation](https://scikit-learn.org/stable/modules/manifold.html):\n",
    "\n",
    "> Locally linear embedding (LLE) seeks a lower-dimensional projection of the data which preserves distances within local neighborhoods. It can be thought of as a series of local Principal Component Analyses which are globally compared to find the best non-linear embedding.\n",
    ">\n",
    "> #### The standard LLE algorithm comprises three stages:\n",
    ">\n",
    "> 1. **Nearest Neighbors Search.** See discussion under Isomap above.\n",
    ">\n",
    "> * **Weight Matrix Construction.** The construction of the LLE weight matrix involves the solution of a  linear equation for each of the  local neighborhoods\n",
    ">\n",
    "> * **Partial Eigenvalue Decomposition.** See discussion under Isomap above."
   ]
  },
  {
   "cell_type": "markdown",
   "metadata": {},
   "source": [
    "Steps 1 and 3 are the same as above.  So we just care about figuring out step 2.\n",
    "\n",
    "Since step 3 is the same as above, that means that the output of step 2 is a matrix like our distance matrix (and it is also a square matrix).  In step 2 is where do the local linear stuff.  We'll consider a single neighborhood in our plot (see below), our goal is to make a linear combination of the neighboring points such that they can recreate our point of interest.\n",
    "\n",
    "For example, if we currently care about point $a$ we'll find its $n$ closest neighbors, lets say 3 for this.  We then want to find weights, $w$, so that:\n",
    "\n",
    "$$a = w_1 * n_1 + w_2 * n_2 + w_3 * n_3$$\n",
    "\n",
    "These weights are then put into a matrix, and that weights matrix is the output of step 2.\n",
    "\n",
    "There are some mathematical issues that can come up if the number of neighbors is greater than the number of input dimensions (like our example is asking for 5 neighbors with only 2 input dimenions).  To address this problem, there is a `reg` parameter.  There is also Modified Locally Linear Embedding (MLLE), which we can use with `method='modifed'`."
   ]
  },
  {
   "cell_type": "code",
   "execution_count": 18,
   "metadata": {},
   "outputs": [
    {
     "data": {
      "image/png": "[encoded data removed]",
      "text/plain": [
       "<Figure size 432x288 with 1 Axes>"
      ]
     },
     "metadata": {
      "needs_background": "light"
     },
     "output_type": "display_data"
    },
    {
     "data": {
      "application/javascript": [
       "\n",
       "            setTimeout(function() {\n",
       "                var nbb_cell_id = 18;\n",
       "                var nbb_unformatted_code = \"# Number of neighbors to find/plot\\nn_neighbors = 5\\ni = 32\\n\\ndist_mat = squareform(pdist(scaled))\\ndist_df = pd.DataFrame(dist_mat)\\n\\nsns.scatterplot(\\\"x\\\", \\\"y\\\", hue=\\\"group\\\", data=df)\\n\\nneigh_idxs = find_neighbors(dist_df, n_neighbors)\\nplot_neighbors(df[[\\\"x\\\", \\\"y\\\"]], i, neigh_idxs, alpha=1)\\n\\nplt.title(f\\\"Neighborhood for point {i}'s closest {n_neighbors} Neighbors\\\")\\nplt.axis(\\\"off\\\")\\nplt.legend().remove()\\nplt.show()\";\n",
       "                var nbb_formatted_code = \"# Number of neighbors to find/plot\\nn_neighbors = 5\\ni = 32\\n\\ndist_mat = squareform(pdist(scaled))\\ndist_df = pd.DataFrame(dist_mat)\\n\\nsns.scatterplot(\\\"x\\\", \\\"y\\\", hue=\\\"group\\\", data=df)\\n\\nneigh_idxs = find_neighbors(dist_df, n_neighbors)\\nplot_neighbors(df[[\\\"x\\\", \\\"y\\\"]], i, neigh_idxs, alpha=1)\\n\\nplt.title(f\\\"Neighborhood for point {i}'s closest {n_neighbors} Neighbors\\\")\\nplt.axis(\\\"off\\\")\\nplt.legend().remove()\\nplt.show()\";\n",
       "                var nbb_cells = Jupyter.notebook.get_cells();\n",
       "                for (var i = 0; i < nbb_cells.length; ++i) {\n",
       "                    if (nbb_cells[i].input_prompt_number == nbb_cell_id) {\n",
       "                        if (nbb_cells[i].get_text() == nbb_unformatted_code) {\n",
       "                             nbb_cells[i].set_text(nbb_formatted_code);\n",
       "                        }\n",
       "                        break;\n",
       "                    }\n",
       "                }\n",
       "            }, 500);\n",
       "            "
      ],
      "text/plain": [
       "<IPython.core.display.Javascript object>"
      ]
     },
     "metadata": {},
     "output_type": "display_data"
    }
   ],
   "source": [
    "# Number of neighbors to find/plot\n",
    "n_neighbors = 5\n",
    "i = 32\n",
    "\n",
    "dist_mat = squareform(pdist(scaled))\n",
    "dist_df = pd.DataFrame(dist_mat)\n",
    "\n",
    "sns.scatterplot(\"x\", \"y\", hue=\"group\", data=df)\n",
    "\n",
    "neigh_idxs = find_neighbors(dist_df, n_neighbors)\n",
    "plot_neighbors(df[[\"x\", \"y\"]], i, neigh_idxs, alpha=1)\n",
    "\n",
    "plt.title(f\"Neighborhood for point {i}'s closest {n_neighbors} Neighbors\")\n",
    "plt.axis(\"off\")\n",
    "plt.legend().remove()\n",
    "plt.show()"
   ]
  },
  {
   "cell_type": "markdown",
   "metadata": {},
   "source": [
    "Repeat the process for `LocallyLinearEmbedding`"
   ]
  },
  {
   "cell_type": "code",
   "execution_count": 19,
   "metadata": {},
   "outputs": [
    {
     "data": {
      "application/javascript": [
       "\n",
       "            setTimeout(function() {\n",
       "                var nbb_cell_id = 19;\n",
       "                var nbb_unformatted_code = \"lle = LocallyLinearEmbedding(\\n    n_neighbors=5, n_components=1, reg=0.001, method=\\\"standard\\\"\\n)\\ndf[\\\"lle\\\"] = lle.fit_transform(scaled)\";\n",
       "                var nbb_formatted_code = \"lle = LocallyLinearEmbedding(\\n    n_neighbors=5, n_components=1, reg=0.001, method=\\\"standard\\\"\\n)\\ndf[\\\"lle\\\"] = lle.fit_transform(scaled)\";\n",
       "                var nbb_cells = Jupyter.notebook.get_cells();\n",
       "                for (var i = 0; i < nbb_cells.length; ++i) {\n",
       "                    if (nbb_cells[i].input_prompt_number == nbb_cell_id) {\n",
       "                        if (nbb_cells[i].get_text() == nbb_unformatted_code) {\n",
       "                             nbb_cells[i].set_text(nbb_formatted_code);\n",
       "                        }\n",
       "                        break;\n",
       "                    }\n",
       "                }\n",
       "            }, 500);\n",
       "            "
      ],
      "text/plain": [
       "<IPython.core.display.Javascript object>"
      ]
     },
     "metadata": {},
     "output_type": "display_data"
    }
   ],
   "source": [
    "lle = LocallyLinearEmbedding(\n",
    "    n_neighbors=5, n_components=1, reg=0.001, method=\"standard\"\n",
    ")\n",
    "df[\"lle\"] = lle.fit_transform(scaled)"
   ]
  },
  {
   "cell_type": "code",
   "execution_count": 20,
   "metadata": {},
   "outputs": [
    {
     "data": {
      "image/png": "[encoded data removed]",
      "text/plain": [
       "<Figure size 432x288 with 1 Axes>"
      ]
     },
     "metadata": {
      "needs_background": "light"
     },
     "output_type": "display_data"
    },
    {
     "data": {
      "application/javascript": [
       "\n",
       "            setTimeout(function() {\n",
       "                var nbb_cell_id = 20;\n",
       "                var nbb_unformatted_code = \"sns.scatterplot(\\\"lle\\\", \\\"zero\\\", hue=\\\"group\\\", data=df)\\nplt.yticks([])\\nplt.ylabel(\\\"\\\")\\nplt.legend().remove()\\nplt.show()\";\n",
       "                var nbb_formatted_code = \"sns.scatterplot(\\\"lle\\\", \\\"zero\\\", hue=\\\"group\\\", data=df)\\nplt.yticks([])\\nplt.ylabel(\\\"\\\")\\nplt.legend().remove()\\nplt.show()\";\n",
       "                var nbb_cells = Jupyter.notebook.get_cells();\n",
       "                for (var i = 0; i < nbb_cells.length; ++i) {\n",
       "                    if (nbb_cells[i].input_prompt_number == nbb_cell_id) {\n",
       "                        if (nbb_cells[i].get_text() == nbb_unformatted_code) {\n",
       "                             nbb_cells[i].set_text(nbb_formatted_code);\n",
       "                        }\n",
       "                        break;\n",
       "                    }\n",
       "                }\n",
       "            }, 500);\n",
       "            "
      ],
      "text/plain": [
       "<IPython.core.display.Javascript object>"
      ]
     },
     "metadata": {},
     "output_type": "display_data"
    }
   ],
   "source": [
    "sns.scatterplot(\"lle\", \"zero\", hue=\"group\", data=df)\n",
    "plt.yticks([])\n",
    "plt.ylabel(\"\")\n",
    "plt.legend().remove()\n",
    "plt.show()"
   ]
  },
  {
   "cell_type": "markdown",
   "metadata": {},
   "source": [
    "## t-SNE\n",
    "\n",
    "Modified from [`sklearn` documentation](https://scikit-learn.org/stable/modules/manifold.html):\n",
    "\n",
    "> t-SNE (`TSNE`) converts affinities of data points to probabilities. The affinities in the original space are represented by Gaussian joint probabilities and the affinities in the embedded space are represented by Student’s t-distributions. This allows t-SNE to be particularly sensitive to local structure and has a few other advantages over existing techniques.\n",
    ">\n",
    "> While Isomap, LLE and variants are best suited to unfold a single continuous low dimensional manifold, t-SNE will focus on the local structure of the data and will tend to extract clustered local groups of samples. This ability to group samples based on the local structure might be beneficial to visually disentangle a dataset that comprises several manifolds at once as is the case in the digits dataset.\n",
    ">\n",
    ">\n",
    "> The disadvantages to using t-SNE are roughly:\n",
    ">\n",
    "> t-SNE is computationally expensive, and can take several hours on million-sample datasets where PCA will finish in seconds or minutes\n",
    ">\n",
    "> The Barnes-Hut t-SNE method is limited to two or three dimensional embeddings.\n",
    ">\n",
    "> The algorithm is stochastic and multiple restarts with different seeds can yield different embeddings. However, it is perfectly legitimate to pick the embedding with the least error.\n",
    ">\n",
    "> Global structure is not explicitly preserved. This problem is mitigated by initializing points with PCA (using init='pca').\n",
    ">\n",
    "> ...\n",
    "> \n",
    "> Larger perplexities lead to more nearest neighbors and less sensitive to small structure. Conversely a lower perplexity considers a smaller number of neighbors, and thus ignores more global information in favour of the local neighborhood. As dataset sizes get larger more points will be required to get a reasonable sample of the local neighborhood, and hence larger perplexities may be required. Similarly noisier datasets will require larger perplexity values to encompass enough local neighbors to see beyond the background noise.\n",
    ">\n",
    "> ...\n",
    "> \n",
    "> Make sure the same scale is used over all features. Because manifold learning methods are based on a nearest-neighbor search, the algorithm may perform poorly otherwise. See `StandardScaler` for convenient ways of scaling heterogeneous data."
   ]
  },
  {
   "cell_type": "markdown",
   "metadata": {},
   "source": [
    "t-SNE cliff notes:\n",
    "\n",
    "Consider each point in the original, high dimensional feature space.  Lets start with point $i$, make $i$ the center of our universe.  Every other point is some distance away from point $i$, instead of considering these as distances consider them as probabilities (higher probabilities are closer, more similar points; lower probabilities are further, less similar points).  If our input space is 2d, these probablities might look like the 3d plot below (where the height represents the probability and our point of interest is at the peak).\n",
    "\n",
    "<img src='https://i.stack.imgur.com/QiTPe.png' width=30%>\n",
    "\n",
    "We then create our lower dimensional mapping of the points (it won't be accurate to start), and measure distances here (that we also view as probabilities).  From here own out we iterate to optimize our mapping.  Our optimization's goal is to make the higher dimensional probabilites as similiar as possible to our lower dimensional probabilities.\n",
    "\n",
    "Our main parameter is `perplexity`, and this will act similarly to `n_neighbors` in `Isomap` & `LLE`; that is, `perplexity`, will manage the trade-off of a local/global view of our points.  Lower `perplexity` -> more local view; higher `perplexity` -> more global view."
   ]
  },
  {
   "cell_type": "code",
   "execution_count": 21,
   "metadata": {},
   "outputs": [
    {
     "data": {
      "application/javascript": [
       "\n",
       "            setTimeout(function() {\n",
       "                var nbb_cell_id = 21;\n",
       "                var nbb_unformatted_code = \"tsne = TSNE(n_components=1, perplexity=50.0, random_state=42)\\ndf[\\\"tsne\\\"] = tsne.fit_transform(scaled)\";\n",
       "                var nbb_formatted_code = \"tsne = TSNE(n_components=1, perplexity=50.0, random_state=42)\\ndf[\\\"tsne\\\"] = tsne.fit_transform(scaled)\";\n",
       "                var nbb_cells = Jupyter.notebook.get_cells();\n",
       "                for (var i = 0; i < nbb_cells.length; ++i) {\n",
       "                    if (nbb_cells[i].input_prompt_number == nbb_cell_id) {\n",
       "                        if (nbb_cells[i].get_text() == nbb_unformatted_code) {\n",
       "                             nbb_cells[i].set_text(nbb_formatted_code);\n",
       "                        }\n",
       "                        break;\n",
       "                    }\n",
       "                }\n",
       "            }, 500);\n",
       "            "
      ],
      "text/plain": [
       "<IPython.core.display.Javascript object>"
      ]
     },
     "metadata": {},
     "output_type": "display_data"
    }
   ],
   "source": [
    "tsne = TSNE(n_components=1, perplexity=50.0, random_state=42)\n",
    "df[\"tsne\"] = tsne.fit_transform(scaled)"
   ]
  },
  {
   "cell_type": "code",
   "execution_count": 22,
   "metadata": {},
   "outputs": [
    {
     "data": {
      "image/png": "[encoded data removed]",
      "text/plain": [
       "<Figure size 432x288 with 1 Axes>"
      ]
     },
     "metadata": {
      "needs_background": "light"
     },
     "output_type": "display_data"
    },
    {
     "data": {
      "application/javascript": [
       "\n",
       "            setTimeout(function() {\n",
       "                var nbb_cell_id = 22;\n",
       "                var nbb_unformatted_code = \"sns.scatterplot(\\\"tsne\\\", \\\"zero\\\", hue=\\\"group\\\", data=df)\\nplt.yticks([])\\nplt.ylabel(\\\"\\\")\\nplt.legend().remove()\\nplt.show()\";\n",
       "                var nbb_formatted_code = \"sns.scatterplot(\\\"tsne\\\", \\\"zero\\\", hue=\\\"group\\\", data=df)\\nplt.yticks([])\\nplt.ylabel(\\\"\\\")\\nplt.legend().remove()\\nplt.show()\";\n",
       "                var nbb_cells = Jupyter.notebook.get_cells();\n",
       "                for (var i = 0; i < nbb_cells.length; ++i) {\n",
       "                    if (nbb_cells[i].input_prompt_number == nbb_cell_id) {\n",
       "                        if (nbb_cells[i].get_text() == nbb_unformatted_code) {\n",
       "                             nbb_cells[i].set_text(nbb_formatted_code);\n",
       "                        }\n",
       "                        break;\n",
       "                    }\n",
       "                }\n",
       "            }, 500);\n",
       "            "
      ],
      "text/plain": [
       "<IPython.core.display.Javascript object>"
      ]
     },
     "metadata": {},
     "output_type": "display_data"
    }
   ],
   "source": [
    "sns.scatterplot(\"tsne\", \"zero\", hue=\"group\", data=df)\n",
    "plt.yticks([])\n",
    "plt.ylabel(\"\")\n",
    "plt.legend().remove()\n",
    "plt.show()"
   ]
  },
  {
   "cell_type": "markdown",
   "metadata": {},
   "source": [
    "If you play around with perplexity enough, you'll see that t-SNE doesn't perform as well on this dataset as Isomap & LLE.  From above on t-SNE: \"Isomap, LLE and variants are best suited to unfold a single continuous low dimensional manifold, t-SNE will focus on the local structure of the data and will tend to extract clustered local groups of samples\".\n",
    "\n",
    "Our example here is a single continuous manifold (its a single rolled up line of points).  More often than not, real world data won't be a single continuous manifold, and this is where t-SNE will outperform the other methods we've seen so far.\n",
    "\n",
    "Note, t-SNE might not have done what we wanted here, but it still has done very well at grouping similar points.  We don't have a perfect unrolling of our original data, but we still visualized the original distances between points in a much better way than PCA does in this case."
   ]
  },
  {
   "cell_type": "markdown",
   "metadata": {},
   "source": [
    "## UMAP\n",
    "\n",
    "\n",
    "Uniform Manifold Approximation and Projection (UMAP) has some similarities to t-SNE.  It measures distances between points in high dimensions and then maps these points to a lower dimension.  We then iterate on adjusting this map until the lower dimension representation has similar properties to the original high dimension data.  The key difference between these algorithms is the property that were comparing between the high & low dimensional represetations.\n",
    "\n",
    "In t-SNE, we were looking at distances as a probability distribution and we we're trying to make this distribution look similar across low-d/high-d.  In UMAP, we're trying to make the topology look similar across low-d/high-d.\n",
    "\n",
    "Think of topology like the below 3d dolphin picture, each vertex is one of our points in a higher dimensional space.  If we could unfold this dolphin and lay it flat, that could be an ideal representation of the data in 2d. This idea has some issues, like where would we cut the dolphin to fold it flat? Wherever we cut, we would be making points that were really close in 3d far apart in our 2d version.\n",
    "\n",
    "<img src='https://upload.wikimedia.org/wikipedia/commons/f/fb/Dolphin_triangle_mesh.png' width=30%>\n",
    "\n",
    "\n",
    "Ok, back to actually describing UMAP.  We'll find each points n nearest neighbors and keep track of these distances in each neighborhood (we're able to use different distances here). We then create our lower dimensional mapping of the points (it won't be accurate to start), and measure distances here between our neighborhood points (we'll use euclidean distance here).  From here on out we iterate to optimize our mapping.  Our optimization's goal is to make the higher dimensional distances as similiar as possible to our lower dimensional distances.  This is thought of as preserving the topological structure of our original data as best as possible.  UMAP claims to be better at t-SNE at preserving global structur, but this is not full agreed upon: [UMAP does not preserve global structure any better than t-SNE when using the same initialization](https://www.biorxiv.org/content/10.1101/2019.12.19.877522v1)\n",
    "\n",
    "The main parameters we'll play with are `n_neighbors` (as we've seen before) and `min_dist` (which will control the placement of points in our lower d representation).\n",
    "\n",
    "Play with both parameters below to see how it effects the output."
   ]
  },
  {
   "cell_type": "code",
   "execution_count": 23,
   "metadata": {},
   "outputs": [
    {
     "data": {
      "application/javascript": [
       "\n",
       "            setTimeout(function() {\n",
       "                var nbb_cell_id = 23;\n",
       "                var nbb_unformatted_code = \"umap = UMAP(n_neighbors=5, min_dist=1, n_components=1, random_state=42)\\ndf[\\\"umap\\\"] = umap.fit_transform(scaled)\";\n",
       "                var nbb_formatted_code = \"umap = UMAP(n_neighbors=5, min_dist=1, n_components=1, random_state=42)\\ndf[\\\"umap\\\"] = umap.fit_transform(scaled)\";\n",
       "                var nbb_cells = Jupyter.notebook.get_cells();\n",
       "                for (var i = 0; i < nbb_cells.length; ++i) {\n",
       "                    if (nbb_cells[i].input_prompt_number == nbb_cell_id) {\n",
       "                        if (nbb_cells[i].get_text() == nbb_unformatted_code) {\n",
       "                             nbb_cells[i].set_text(nbb_formatted_code);\n",
       "                        }\n",
       "                        break;\n",
       "                    }\n",
       "                }\n",
       "            }, 500);\n",
       "            "
      ],
      "text/plain": [
       "<IPython.core.display.Javascript object>"
      ]
     },
     "metadata": {},
     "output_type": "display_data"
    }
   ],
   "source": [
    "umap = UMAP(n_neighbors=5, min_dist=1, n_components=1, random_state=42)\n",
    "df[\"umap\"] = umap.fit_transform(scaled)"
   ]
  },
  {
   "cell_type": "code",
   "execution_count": 24,
   "metadata": {
    "scrolled": true
   },
   "outputs": [
    {
     "data": {
      "image/png": "[encoded data removed]",
      "text/plain": [
       "<Figure size 432x288 with 1 Axes>"
      ]
     },
     "metadata": {
      "needs_background": "light"
     },
     "output_type": "display_data"
    },
    {
     "data": {
      "application/javascript": [
       "\n",
       "            setTimeout(function() {\n",
       "                var nbb_cell_id = 24;\n",
       "                var nbb_unformatted_code = \"sns.scatterplot(\\\"umap\\\", \\\"zero\\\", hue=\\\"group\\\", data=df)\\nplt.yticks([])\\nplt.ylabel(\\\"\\\")\\nplt.legend().remove()\\nplt.show()\";\n",
       "                var nbb_formatted_code = \"sns.scatterplot(\\\"umap\\\", \\\"zero\\\", hue=\\\"group\\\", data=df)\\nplt.yticks([])\\nplt.ylabel(\\\"\\\")\\nplt.legend().remove()\\nplt.show()\";\n",
       "                var nbb_cells = Jupyter.notebook.get_cells();\n",
       "                for (var i = 0; i < nbb_cells.length; ++i) {\n",
       "                    if (nbb_cells[i].input_prompt_number == nbb_cell_id) {\n",
       "                        if (nbb_cells[i].get_text() == nbb_unformatted_code) {\n",
       "                             nbb_cells[i].set_text(nbb_formatted_code);\n",
       "                        }\n",
       "                        break;\n",
       "                    }\n",
       "                }\n",
       "            }, 500);\n",
       "            "
      ],
      "text/plain": [
       "<IPython.core.display.Javascript object>"
      ]
     },
     "metadata": {},
     "output_type": "display_data"
    }
   ],
   "source": [
    "sns.scatterplot(\"umap\", \"zero\", hue=\"group\", data=df)\n",
    "plt.yticks([])\n",
    "plt.ylabel(\"\")\n",
    "plt.legend().remove()\n",
    "plt.show()"
   ]
  },
  {
   "cell_type": "markdown",
   "metadata": {},
   "source": [
    "Like t-SNE, UMAP doesn't do a perfect unrolling of our data (a single continuous manifold).  Again, this doesn't mean it wasn't successful in keeping similiar points close together and keeping dissimiliar points far apart.\n",
    "\n",
    "So what's the big deal between t-SNE and UMAP?  They seem to have very similar ideas and very similar results on this data.\n",
    "\n",
    "These 2 methods are very similar and in practice you might test both out and see which works better for your use case.  However, depending on your data's size, you'll be waiting on t-SNE to make this comparison.  UMAP's major advantage over t-SNE is the processing time. UMAP is much much faster than t-SNE when you have more and more data.  What is the cutoff point for what is too much data for t-SNE? ¯\\\\_(ツ)_/¯ your computer and patience will let you know."
   ]
  }
 ],
 "metadata": {
  "kernelspec": {
   "display_name": "Python 3",
   "language": "python",
   "name": "python3"
  },
  "language_info": {
   "codemirror_mode": {
    "name": "ipython",
    "version": 3
   },
   "file_extension": ".py",
   "mimetype": "text/x-python",
   "name": "python",
   "nbconvert_exporter": "python",
   "pygments_lexer": "ipython3",
   "version": "3.7.7"
  }
 },
 "nbformat": 4,
 "nbformat_minor": 2
}
