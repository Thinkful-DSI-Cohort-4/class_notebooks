{
 "cells": [
  {
   "cell_type": "code",
   "execution_count": 1,
   "metadata": {},
   "outputs": [
    {
     "data": {
      "application/javascript": [
       "\n",
       "            setTimeout(function() {\n",
       "                var nbb_cell_id = 1;\n",
       "                var nbb_unformatted_code = \"%load_ext nb_black\";\n",
       "                var nbb_formatted_code = \"%load_ext nb_black\";\n",
       "                var nbb_cells = Jupyter.notebook.get_cells();\n",
       "                for (var i = 0; i < nbb_cells.length; ++i) {\n",
       "                    if (nbb_cells[i].input_prompt_number == nbb_cell_id) {\n",
       "                        if (nbb_cells[i].get_text() == nbb_unformatted_code) {\n",
       "                             nbb_cells[i].set_text(nbb_formatted_code);\n",
       "                        }\n",
       "                        break;\n",
       "                    }\n",
       "                }\n",
       "            }, 500);\n",
       "            "
      ],
      "text/plain": [
       "<IPython.core.display.Javascript object>"
      ]
     },
     "metadata": {},
     "output_type": "display_data"
    }
   ],
   "source": [
    "%load_ext nb_black"
   ]
  },
  {
   "cell_type": "code",
   "execution_count": 2,
   "metadata": {},
   "outputs": [
    {
     "data": {
      "text/html": [
       "<div>\n",
       "<style scoped>\n",
       "    .dataframe tbody tr th:only-of-type {\n",
       "        vertical-align: middle;\n",
       "    }\n",
       "\n",
       "    .dataframe tbody tr th {\n",
       "        vertical-align: top;\n",
       "    }\n",
       "\n",
       "    .dataframe thead th {\n",
       "        text-align: right;\n",
       "    }\n",
       "</style>\n",
       "<table border=\"1\" class=\"dataframe\">\n",
       "  <thead>\n",
       "    <tr style=\"text-align: right;\">\n",
       "      <th></th>\n",
       "      <th>product_id</th>\n",
       "      <th>state</th>\n",
       "      <th>date</th>\n",
       "      <th>rating</th>\n",
       "      <th>units_sold</th>\n",
       "      <th>price</th>\n",
       "    </tr>\n",
       "  </thead>\n",
       "  <tbody>\n",
       "    <tr>\n",
       "      <th>0</th>\n",
       "      <td>005</td>\n",
       "      <td>CA</td>\n",
       "      <td>1/7/2019</td>\n",
       "      <td>****</td>\n",
       "      <td>7</td>\n",
       "      <td>$7.99</td>\n",
       "    </tr>\n",
       "    <tr>\n",
       "      <th>1</th>\n",
       "      <td>002</td>\n",
       "      <td>OR</td>\n",
       "      <td>2/5/2019</td>\n",
       "      <td>*</td>\n",
       "      <td>3</td>\n",
       "      <td>$2.75</td>\n",
       "    </tr>\n",
       "    <tr>\n",
       "      <th>2</th>\n",
       "      <td>002</td>\n",
       "      <td>NY</td>\n",
       "      <td>5/5/2019</td>\n",
       "      <td>***</td>\n",
       "      <td>5</td>\n",
       "      <td>$2.75</td>\n",
       "    </tr>\n",
       "    <tr>\n",
       "      <th>3</th>\n",
       "      <td>005</td>\n",
       "      <td>GA</td>\n",
       "      <td>7/3/2019</td>\n",
       "      <td>*</td>\n",
       "      <td>1</td>\n",
       "      <td>$7.99</td>\n",
       "    </tr>\n",
       "  </tbody>\n",
       "</table>\n",
       "</div>"
      ],
      "text/plain": [
       "  product_id state      date rating  units_sold  price\n",
       "0        005    CA  1/7/2019   ****           7  $7.99\n",
       "1        002    OR  2/5/2019      *           3  $2.75\n",
       "2        002    NY  5/5/2019    ***           5  $2.75\n",
       "3        005    GA  7/3/2019      *           1  $7.99"
      ]
     },
     "execution_count": 2,
     "metadata": {},
     "output_type": "execute_result"
    },
    {
     "data": {
      "application/javascript": [
       "\n",
       "            setTimeout(function() {\n",
       "                var nbb_cell_id = 2;\n",
       "                var nbb_unformatted_code = \"import pandas as pd\\nimport numpy as np\\n\\ndata = {\\n    \\\"product_id\\\": [\\\"005\\\", \\\"002\\\", \\\"002\\\", \\\"005\\\"],\\n    \\\"state\\\": [\\\"CA\\\", \\\"OR\\\", \\\"NY\\\", \\\"GA\\\"],\\n    \\\"date\\\": [\\\"1/7/2019\\\", \\\"2/5/2019\\\", \\\"5/5/2019\\\", \\\"7/3/2019\\\"],\\n    \\\"rating\\\": [\\\"****\\\", \\\"*\\\", \\\"***\\\", \\\"*\\\"],\\n    \\\"units_sold\\\": [7, 3, 5, 1],\\n    \\\"price\\\": [\\\"$7.99\\\", \\\"$2.75\\\", \\\"$2.75\\\", \\\"$7.99\\\"],\\n}\\n\\ndf = pd.DataFrame(data)\\ndf\";\n",
       "                var nbb_formatted_code = \"import pandas as pd\\nimport numpy as np\\n\\ndata = {\\n    \\\"product_id\\\": [\\\"005\\\", \\\"002\\\", \\\"002\\\", \\\"005\\\"],\\n    \\\"state\\\": [\\\"CA\\\", \\\"OR\\\", \\\"NY\\\", \\\"GA\\\"],\\n    \\\"date\\\": [\\\"1/7/2019\\\", \\\"2/5/2019\\\", \\\"5/5/2019\\\", \\\"7/3/2019\\\"],\\n    \\\"rating\\\": [\\\"****\\\", \\\"*\\\", \\\"***\\\", \\\"*\\\"],\\n    \\\"units_sold\\\": [7, 3, 5, 1],\\n    \\\"price\\\": [\\\"$7.99\\\", \\\"$2.75\\\", \\\"$2.75\\\", \\\"$7.99\\\"],\\n}\\n\\ndf = pd.DataFrame(data)\\ndf\";\n",
       "                var nbb_cells = Jupyter.notebook.get_cells();\n",
       "                for (var i = 0; i < nbb_cells.length; ++i) {\n",
       "                    if (nbb_cells[i].input_prompt_number == nbb_cell_id) {\n",
       "                        if (nbb_cells[i].get_text() == nbb_unformatted_code) {\n",
       "                             nbb_cells[i].set_text(nbb_formatted_code);\n",
       "                        }\n",
       "                        break;\n",
       "                    }\n",
       "                }\n",
       "            }, 500);\n",
       "            "
      ],
      "text/plain": [
       "<IPython.core.display.Javascript object>"
      ]
     },
     "metadata": {},
     "output_type": "display_data"
    }
   ],
   "source": [
    "import pandas as pd\n",
    "import numpy as np\n",
    "\n",
    "data = {\n",
    "    \"product_id\": [\"005\", \"002\", \"002\", \"005\"],\n",
    "    \"state\": [\"CA\", \"OR\", \"NY\", \"GA\"],\n",
    "    \"date\": [\"1/7/2019\", \"2/5/2019\", \"5/5/2019\", \"7/3/2019\"],\n",
    "    \"rating\": [\"****\", \"*\", \"***\", \"*\"],\n",
    "    \"units_sold\": [7, 3, 5, 1],\n",
    "    \"price\": [\"$7.99\", \"$2.75\", \"$2.75\", \"$7.99\"],\n",
    "}\n",
    "\n",
    "df = pd.DataFrame(data)\n",
    "df"
   ]
  },
  {
   "cell_type": "markdown",
   "metadata": {},
   "source": [
    "hmmm... needs more data... and missingness!  ლ( ◕ 益 ◕ ) ლ\n",
    "\n",
    "I just left this part in as some example code if you want to review it.  No need to get into at this point; its more means to an end than the topic at hand.\n",
    "\n",
    "Scroll on to the next dataframe output if you dont care...."
   ]
  },
  {
   "cell_type": "code",
   "execution_count": 3,
   "metadata": {},
   "outputs": [
    {
     "data": {
      "application/javascript": [
       "\n",
       "            setTimeout(function() {\n",
       "                var nbb_cell_id = 3;\n",
       "                var nbb_unformatted_code = \"# Just makin up some data... n rows of it\\nn = 50\";\n",
       "                var nbb_formatted_code = \"# Just makin up some data... n rows of it\\nn = 50\";\n",
       "                var nbb_cells = Jupyter.notebook.get_cells();\n",
       "                for (var i = 0; i < nbb_cells.length; ++i) {\n",
       "                    if (nbb_cells[i].input_prompt_number == nbb_cell_id) {\n",
       "                        if (nbb_cells[i].get_text() == nbb_unformatted_code) {\n",
       "                             nbb_cells[i].set_text(nbb_formatted_code);\n",
       "                        }\n",
       "                        break;\n",
       "                    }\n",
       "                }\n",
       "            }, 500);\n",
       "            "
      ],
      "text/plain": [
       "<IPython.core.display.Javascript object>"
      ]
     },
     "metadata": {},
     "output_type": "display_data"
    }
   ],
   "source": [
    "# Just makin up some data... n rows of it\n",
    "n = 50"
   ]
  },
  {
   "cell_type": "code",
   "execution_count": 4,
   "metadata": {},
   "outputs": [
    {
     "data": {
      "application/javascript": [
       "\n",
       "            setTimeout(function() {\n",
       "                var nbb_cell_id = 4;\n",
       "                var nbb_unformatted_code = \"# product_id & price --------------------------------------------------------\\n# done together for consistent pricing\\n\\n# zero padded ids\\nids = [f\\\"{i:03}\\\" for i in range(n * 2)]\\n\\n# Random prices\\nprices = np.random.uniform(0.99, 24.99, size=n * 2)\\n\\n# Format as money\\nprices = np.array([f\\\"${p:0.2f}\\\" for p in prices])\\n\\n# Make some values nan\\nnan_idxs = np.random.choice(prices.size, size=5, replace=False)\\nprices[nan_idxs] = np.nan\\n\\n\\n# put in dataframe to sample pairs rather than 1 at a time\\n# this will keep same price for each id\\ndf = pd.DataFrame({\\\"product_id\\\": ids, \\\"price\\\": prices})\\ndf = df.sample(n, replace=True).reset_index(drop=True)\";\n",
       "                var nbb_formatted_code = \"# product_id & price --------------------------------------------------------\\n# done together for consistent pricing\\n\\n# zero padded ids\\nids = [f\\\"{i:03}\\\" for i in range(n * 2)]\\n\\n# Random prices\\nprices = np.random.uniform(0.99, 24.99, size=n * 2)\\n\\n# Format as money\\nprices = np.array([f\\\"${p:0.2f}\\\" for p in prices])\\n\\n# Make some values nan\\nnan_idxs = np.random.choice(prices.size, size=5, replace=False)\\nprices[nan_idxs] = np.nan\\n\\n\\n# put in dataframe to sample pairs rather than 1 at a time\\n# this will keep same price for each id\\ndf = pd.DataFrame({\\\"product_id\\\": ids, \\\"price\\\": prices})\\ndf = df.sample(n, replace=True).reset_index(drop=True)\";\n",
       "                var nbb_cells = Jupyter.notebook.get_cells();\n",
       "                for (var i = 0; i < nbb_cells.length; ++i) {\n",
       "                    if (nbb_cells[i].input_prompt_number == nbb_cell_id) {\n",
       "                        if (nbb_cells[i].get_text() == nbb_unformatted_code) {\n",
       "                             nbb_cells[i].set_text(nbb_formatted_code);\n",
       "                        }\n",
       "                        break;\n",
       "                    }\n",
       "                }\n",
       "            }, 500);\n",
       "            "
      ],
      "text/plain": [
       "<IPython.core.display.Javascript object>"
      ]
     },
     "metadata": {},
     "output_type": "display_data"
    }
   ],
   "source": [
    "# product_id & price --------------------------------------------------------\n",
    "# done together for consistent pricing\n",
    "\n",
    "# zero padded ids\n",
    "ids = [f\"{i:03}\" for i in range(n * 2)]\n",
    "\n",
    "# Random prices\n",
    "prices = np.random.uniform(0.99, 24.99, size=n * 2)\n",
    "\n",
    "# Format as money\n",
    "prices = np.array([f\"${p:0.2f}\" for p in prices])\n",
    "\n",
    "# Make some values nan\n",
    "nan_idxs = np.random.choice(prices.size, size=5, replace=False)\n",
    "prices[nan_idxs] = np.nan\n",
    "\n",
    "\n",
    "# put in dataframe to sample pairs rather than 1 at a time\n",
    "# this will keep same price for each id\n",
    "df = pd.DataFrame({\"product_id\": ids, \"price\": prices})\n",
    "df = df.sample(n, replace=True).reset_index(drop=True)"
   ]
  },
  {
   "cell_type": "code",
   "execution_count": 5,
   "metadata": {},
   "outputs": [
    {
     "data": {
      "application/javascript": [
       "\n",
       "            setTimeout(function() {\n",
       "                var nbb_cell_id = 5;\n",
       "                var nbb_unformatted_code = \"# state -----------------------------------------------------------------------\\nstates = np.random.choice(\\n    [\\\"CA\\\", \\\"OR\\\", \\\"NY\\\", \\\"FL\\\", \\\"TN\\\", \\\"AZ\\\", \\\"GA\\\", \\\"ID\\\", \\\"HI\\\"], size=n, replace=True\\n)\\n\\ndf[\\\"state\\\"] = states\";\n",
       "                var nbb_formatted_code = \"# state -----------------------------------------------------------------------\\nstates = np.random.choice(\\n    [\\\"CA\\\", \\\"OR\\\", \\\"NY\\\", \\\"FL\\\", \\\"TN\\\", \\\"AZ\\\", \\\"GA\\\", \\\"ID\\\", \\\"HI\\\"], size=n, replace=True\\n)\\n\\ndf[\\\"state\\\"] = states\";\n",
       "                var nbb_cells = Jupyter.notebook.get_cells();\n",
       "                for (var i = 0; i < nbb_cells.length; ++i) {\n",
       "                    if (nbb_cells[i].input_prompt_number == nbb_cell_id) {\n",
       "                        if (nbb_cells[i].get_text() == nbb_unformatted_code) {\n",
       "                             nbb_cells[i].set_text(nbb_formatted_code);\n",
       "                        }\n",
       "                        break;\n",
       "                    }\n",
       "                }\n",
       "            }, 500);\n",
       "            "
      ],
      "text/plain": [
       "<IPython.core.display.Javascript object>"
      ]
     },
     "metadata": {},
     "output_type": "display_data"
    }
   ],
   "source": [
    "# state -----------------------------------------------------------------------\n",
    "states = np.random.choice(\n",
    "    [\"CA\", \"OR\", \"NY\", \"FL\", \"TN\", \"AZ\", \"GA\", \"ID\", \"HI\"], size=n, replace=True\n",
    ")\n",
    "\n",
    "df[\"state\"] = states"
   ]
  },
  {
   "cell_type": "code",
   "execution_count": 6,
   "metadata": {},
   "outputs": [
    {
     "data": {
      "application/javascript": [
       "\n",
       "            setTimeout(function() {\n",
       "                var nbb_cell_id = 6;\n",
       "                var nbb_unformatted_code = \"# date ------------------------------------------------------------------------\\n# lazy way\\ndays = np.random.choice(range(1, 26), size=n, replace=True)\\nmonths = np.random.choice(range(1, 13), size=n, replace=True)\\nyears = np.random.choice(range(2010, 2020), size=n, replace=True)\\n\\ndates = [f\\\"{y}-{m:02}-{d:02}\\\" for y, m, d in zip(years, months, days)]\\ndates = sorted(dates)\\n\\ndf[\\\"date\\\"] = dates\";\n",
       "                var nbb_formatted_code = \"# date ------------------------------------------------------------------------\\n# lazy way\\ndays = np.random.choice(range(1, 26), size=n, replace=True)\\nmonths = np.random.choice(range(1, 13), size=n, replace=True)\\nyears = np.random.choice(range(2010, 2020), size=n, replace=True)\\n\\ndates = [f\\\"{y}-{m:02}-{d:02}\\\" for y, m, d in zip(years, months, days)]\\ndates = sorted(dates)\\n\\ndf[\\\"date\\\"] = dates\";\n",
       "                var nbb_cells = Jupyter.notebook.get_cells();\n",
       "                for (var i = 0; i < nbb_cells.length; ++i) {\n",
       "                    if (nbb_cells[i].input_prompt_number == nbb_cell_id) {\n",
       "                        if (nbb_cells[i].get_text() == nbb_unformatted_code) {\n",
       "                             nbb_cells[i].set_text(nbb_formatted_code);\n",
       "                        }\n",
       "                        break;\n",
       "                    }\n",
       "                }\n",
       "            }, 500);\n",
       "            "
      ],
      "text/plain": [
       "<IPython.core.display.Javascript object>"
      ]
     },
     "metadata": {},
     "output_type": "display_data"
    }
   ],
   "source": [
    "# date ------------------------------------------------------------------------\n",
    "# lazy way\n",
    "days = np.random.choice(range(1, 26), size=n, replace=True)\n",
    "months = np.random.choice(range(1, 13), size=n, replace=True)\n",
    "years = np.random.choice(range(2010, 2020), size=n, replace=True)\n",
    "\n",
    "dates = [f\"{y}-{m:02}-{d:02}\" for y, m, d in zip(years, months, days)]\n",
    "dates = sorted(dates)\n",
    "\n",
    "df[\"date\"] = dates"
   ]
  },
  {
   "cell_type": "code",
   "execution_count": 7,
   "metadata": {},
   "outputs": [
    {
     "data": {
      "application/javascript": [
       "\n",
       "            setTimeout(function() {\n",
       "                var nbb_cell_id = 7;\n",
       "                var nbb_unformatted_code = \"# rating ----------------------------------------------------------------------\\nratings = [\\\"*\\\" * np.random.randint(1, 6) for _ in range(n)]\\n\\ndf[\\\"rating\\\"] = ratings\";\n",
       "                var nbb_formatted_code = \"# rating ----------------------------------------------------------------------\\nratings = [\\\"*\\\" * np.random.randint(1, 6) for _ in range(n)]\\n\\ndf[\\\"rating\\\"] = ratings\";\n",
       "                var nbb_cells = Jupyter.notebook.get_cells();\n",
       "                for (var i = 0; i < nbb_cells.length; ++i) {\n",
       "                    if (nbb_cells[i].input_prompt_number == nbb_cell_id) {\n",
       "                        if (nbb_cells[i].get_text() == nbb_unformatted_code) {\n",
       "                             nbb_cells[i].set_text(nbb_formatted_code);\n",
       "                        }\n",
       "                        break;\n",
       "                    }\n",
       "                }\n",
       "            }, 500);\n",
       "            "
      ],
      "text/plain": [
       "<IPython.core.display.Javascript object>"
      ]
     },
     "metadata": {},
     "output_type": "display_data"
    }
   ],
   "source": [
    "# rating ----------------------------------------------------------------------\n",
    "ratings = [\"*\" * np.random.randint(1, 6) for _ in range(n)]\n",
    "\n",
    "df[\"rating\"] = ratings"
   ]
  },
  {
   "cell_type": "code",
   "execution_count": 8,
   "metadata": {},
   "outputs": [
    {
     "data": {
      "application/javascript": [
       "\n",
       "            setTimeout(function() {\n",
       "                var nbb_cell_id = 8;\n",
       "                var nbb_unformatted_code = \"# units_sold ------------------------------------------------------------------\\n# Randomness\\nunits_sold = np.random.normal(5, 3, n)\\n\\n# Make sure no value is below 1. cause you cant sell less than one units. prolly\\nunits_sold = np.clip(units_sold, 1, np.inf)\\n\\n# Add a trend\\nunits_sold += np.arange(0, n)\\n\\n# Round because you cant sell fractional units. prolly\\nunits_sold = np.round(units_sold)\\n\\n# Make some values nan\\nnan_idxs = np.random.choice(units_sold.size, size=5, replace=False)\\nunits_sold[nan_idxs] = np.nan\\n\\ndf[\\\"units_sold\\\"] = units_sold\";\n",
       "                var nbb_formatted_code = \"# units_sold ------------------------------------------------------------------\\n# Randomness\\nunits_sold = np.random.normal(5, 3, n)\\n\\n# Make sure no value is below 1. cause you cant sell less than one units. prolly\\nunits_sold = np.clip(units_sold, 1, np.inf)\\n\\n# Add a trend\\nunits_sold += np.arange(0, n)\\n\\n# Round because you cant sell fractional units. prolly\\nunits_sold = np.round(units_sold)\\n\\n# Make some values nan\\nnan_idxs = np.random.choice(units_sold.size, size=5, replace=False)\\nunits_sold[nan_idxs] = np.nan\\n\\ndf[\\\"units_sold\\\"] = units_sold\";\n",
       "                var nbb_cells = Jupyter.notebook.get_cells();\n",
       "                for (var i = 0; i < nbb_cells.length; ++i) {\n",
       "                    if (nbb_cells[i].input_prompt_number == nbb_cell_id) {\n",
       "                        if (nbb_cells[i].get_text() == nbb_unformatted_code) {\n",
       "                             nbb_cells[i].set_text(nbb_formatted_code);\n",
       "                        }\n",
       "                        break;\n",
       "                    }\n",
       "                }\n",
       "            }, 500);\n",
       "            "
      ],
      "text/plain": [
       "<IPython.core.display.Javascript object>"
      ]
     },
     "metadata": {},
     "output_type": "display_data"
    }
   ],
   "source": [
    "# units_sold ------------------------------------------------------------------\n",
    "# Randomness\n",
    "units_sold = np.random.normal(5, 3, n)\n",
    "\n",
    "# Make sure no value is below 1. cause you cant sell less than one units. prolly\n",
    "units_sold = np.clip(units_sold, 1, np.inf)\n",
    "\n",
    "# Add a trend\n",
    "units_sold += np.arange(0, n)\n",
    "\n",
    "# Round because you cant sell fractional units. prolly\n",
    "units_sold = np.round(units_sold)\n",
    "\n",
    "# Make some values nan\n",
    "nan_idxs = np.random.choice(units_sold.size, size=5, replace=False)\n",
    "units_sold[nan_idxs] = np.nan\n",
    "\n",
    "df[\"units_sold\"] = units_sold"
   ]
  },
  {
   "cell_type": "code",
   "execution_count": 17,
   "metadata": {},
   "outputs": [
    {
     "data": {
      "text/html": [
       "<div>\n",
       "<style scoped>\n",
       "    .dataframe tbody tr th:only-of-type {\n",
       "        vertical-align: middle;\n",
       "    }\n",
       "\n",
       "    .dataframe tbody tr th {\n",
       "        vertical-align: top;\n",
       "    }\n",
       "\n",
       "    .dataframe thead th {\n",
       "        text-align: right;\n",
       "    }\n",
       "</style>\n",
       "<table border=\"1\" class=\"dataframe\">\n",
       "  <thead>\n",
       "    <tr style=\"text-align: right;\">\n",
       "      <th></th>\n",
       "      <th>product_id</th>\n",
       "      <th>state</th>\n",
       "      <th>date</th>\n",
       "      <th>rating</th>\n",
       "      <th>units_sold</th>\n",
       "      <th>price</th>\n",
       "    </tr>\n",
       "  </thead>\n",
       "  <tbody>\n",
       "    <tr>\n",
       "      <th>0</th>\n",
       "      <td>076</td>\n",
       "      <td>FL</td>\n",
       "      <td>2019-08-25</td>\n",
       "      <td>**</td>\n",
       "      <td>NaN</td>\n",
       "      <td>$13.04</td>\n",
       "    </tr>\n",
       "    <tr>\n",
       "      <th>1</th>\n",
       "      <td>037</td>\n",
       "      <td>OR</td>\n",
       "      <td>2015-09-03</td>\n",
       "      <td>****</td>\n",
       "      <td>33.0</td>\n",
       "      <td>$5.21</td>\n",
       "    </tr>\n",
       "    <tr>\n",
       "      <th>2</th>\n",
       "      <td>068</td>\n",
       "      <td>OR</td>\n",
       "      <td>2017-04-23</td>\n",
       "      <td>*</td>\n",
       "      <td>NaN</td>\n",
       "      <td>$23.13</td>\n",
       "    </tr>\n",
       "    <tr>\n",
       "      <th>3</th>\n",
       "      <td>018</td>\n",
       "      <td>NY</td>\n",
       "      <td>2013-01-13</td>\n",
       "      <td>**</td>\n",
       "      <td>19.0</td>\n",
       "      <td>$7.03</td>\n",
       "    </tr>\n",
       "    <tr>\n",
       "      <th>4</th>\n",
       "      <td>073</td>\n",
       "      <td>GA</td>\n",
       "      <td>2018-06-17</td>\n",
       "      <td>**</td>\n",
       "      <td>45.0</td>\n",
       "      <td>$1.77</td>\n",
       "    </tr>\n",
       "  </tbody>\n",
       "</table>\n",
       "</div>"
      ],
      "text/plain": [
       "  product_id state        date rating  units_sold   price\n",
       "0        076    FL  2019-08-25     **         NaN  $13.04\n",
       "1        037    OR  2015-09-03   ****        33.0   $5.21\n",
       "2        068    OR  2017-04-23      *         NaN  $23.13\n",
       "3        018    NY  2013-01-13     **        19.0   $7.03\n",
       "4        073    GA  2018-06-17     **        45.0   $1.77"
      ]
     },
     "execution_count": 17,
     "metadata": {},
     "output_type": "execute_result"
    },
    {
     "data": {
      "application/javascript": [
       "\n",
       "            setTimeout(function() {\n",
       "                var nbb_cell_id = 17;\n",
       "                var nbb_unformatted_code = \"# put in same order as original\\ndf = df[[\\\"product_id\\\", \\\"state\\\", \\\"date\\\", \\\"rating\\\", \\\"units_sold\\\", \\\"price\\\"]]\\n\\n# shuffle rows\\ndf = df.sample(frac=1).reset_index(drop=True)\\n\\ndf.head()\";\n",
       "                var nbb_formatted_code = \"# put in same order as original\\ndf = df[[\\\"product_id\\\", \\\"state\\\", \\\"date\\\", \\\"rating\\\", \\\"units_sold\\\", \\\"price\\\"]]\\n\\n# shuffle rows\\ndf = df.sample(frac=1).reset_index(drop=True)\\n\\ndf.head()\";\n",
       "                var nbb_cells = Jupyter.notebook.get_cells();\n",
       "                for (var i = 0; i < nbb_cells.length; ++i) {\n",
       "                    if (nbb_cells[i].input_prompt_number == nbb_cell_id) {\n",
       "                        if (nbb_cells[i].get_text() == nbb_unformatted_code) {\n",
       "                             nbb_cells[i].set_text(nbb_formatted_code);\n",
       "                        }\n",
       "                        break;\n",
       "                    }\n",
       "                }\n",
       "            }, 500);\n",
       "            "
      ],
      "text/plain": [
       "<IPython.core.display.Javascript object>"
      ]
     },
     "metadata": {},
     "output_type": "display_data"
    }
   ],
   "source": [
    "# put in same order as original\n",
    "df = df[[\"product_id\", \"state\", \"date\", \"rating\", \"units_sold\", \"price\"]]\n",
    "\n",
    "# shuffle rows\n",
    "df = df.sample(frac=1).reset_index(drop=True)\n",
    "\n",
    "df.head()"
   ]
  },
  {
   "cell_type": "markdown",
   "metadata": {},
   "source": [
    "Inspect the data frame with the `info()` method.  Where do we have nans?"
   ]
  },
  {
   "cell_type": "code",
   "execution_count": null,
   "metadata": {},
   "outputs": [],
   "source": []
  },
  {
   "cell_type": "markdown",
   "metadata": {},
   "source": [
    "Further inspect the data frame with `isna()` or `isnull()`\n",
    "\n",
    "What percentage of each column is nan?"
   ]
  },
  {
   "cell_type": "code",
   "execution_count": 13,
   "metadata": {},
   "outputs": [
    {
     "data": {
      "text/plain": [
       "product_id    0.0\n",
       "state         0.0\n",
       "date          0.0\n",
       "rating        0.0\n",
       "units_sold    0.1\n",
       "price         0.0\n",
       "dtype: float64"
      ]
     },
     "execution_count": 13,
     "metadata": {},
     "output_type": "execute_result"
    },
    {
     "data": {
      "application/javascript": [
       "\n",
       "            setTimeout(function() {\n",
       "                var nbb_cell_id = 13;\n",
       "                var nbb_unformatted_code = \"df.isna().mean()\";\n",
       "                var nbb_formatted_code = \"df.isna().mean()\";\n",
       "                var nbb_cells = Jupyter.notebook.get_cells();\n",
       "                for (var i = 0; i < nbb_cells.length; ++i) {\n",
       "                    if (nbb_cells[i].input_prompt_number == nbb_cell_id) {\n",
       "                        if (nbb_cells[i].get_text() == nbb_unformatted_code) {\n",
       "                             nbb_cells[i].set_text(nbb_formatted_code);\n",
       "                        }\n",
       "                        break;\n",
       "                    }\n",
       "                }\n",
       "            }, 500);\n",
       "            "
      ],
      "text/plain": [
       "<IPython.core.display.Javascript object>"
      ]
     },
     "metadata": {},
     "output_type": "display_data"
    }
   ],
   "source": []
  },
  {
   "cell_type": "markdown",
   "metadata": {},
   "source": [
    "Convert the price column to numeric"
   ]
  },
  {
   "cell_type": "code",
   "execution_count": null,
   "metadata": {},
   "outputs": [],
   "source": []
  },
  {
   "cell_type": "markdown",
   "metadata": {},
   "source": [
    "Redo your missing value analysis."
   ]
  },
  {
   "cell_type": "code",
   "execution_count": null,
   "metadata": {},
   "outputs": [],
   "source": []
  },
  {
   "cell_type": "markdown",
   "metadata": {},
   "source": [
    "Convert the ratings column to numeric"
   ]
  },
  {
   "cell_type": "code",
   "execution_count": null,
   "metadata": {},
   "outputs": [],
   "source": []
  },
  {
   "cell_type": "markdown",
   "metadata": {},
   "source": [
    "Convert the date column to a date datatype and sort by it"
   ]
  },
  {
   "cell_type": "code",
   "execution_count": null,
   "metadata": {},
   "outputs": [],
   "source": []
  },
  {
   "cell_type": "markdown",
   "metadata": {},
   "source": [
    "Now let's address the missing values\n",
    "\n",
    "* What options do we have?\n",
    "* Which ones make sense for each column?\n",
    "    * How do we decide which ones make sense?\n",
    "    \n",
    "Once these questions are answered.  Let's apply them until we have no missing values."
   ]
  },
  {
   "cell_type": "code",
   "execution_count": null,
   "metadata": {},
   "outputs": [],
   "source": []
  }
 ],
 "metadata": {
  "kernelspec": {
   "display_name": "Python 3",
   "language": "python",
   "name": "python3"
  },
  "language_info": {
   "codemirror_mode": {
    "name": "ipython",
    "version": 3
   },
   "file_extension": ".py",
   "mimetype": "text/x-python",
   "name": "python",
   "nbconvert_exporter": "python",
   "pygments_lexer": "ipython3",
   "version": "3.7.6"
  }
 },
 "nbformat": 4,
 "nbformat_minor": 2
}
